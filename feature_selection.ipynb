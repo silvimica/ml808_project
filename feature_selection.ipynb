{
 "cells": [
  {
   "cell_type": "markdown",
   "metadata": {},
   "source": [
    "Feature importance"
   ]
  },
  {
   "cell_type": "code",
   "execution_count": 2,
   "metadata": {},
   "outputs": [
    {
     "name": "stdout",
     "output_type": "stream",
     "text": [
      "LBXGH: 0.0471\n",
      "RXQ033: 0.0188\n",
      "AUQ410A: 0.0177\n",
      "DR1HELP: 0.0177\n",
      "DRD370NQ: 0.0160\n",
      "RXQ050: 0.0142\n",
      "DR1TALCO: 0.0132\n",
      "BAXPF42: 0.0104\n",
      "DR1TPHOS: 0.0098\n",
      "MCQ160E: 0.0097\n",
      "BAQ391B: 0.0093\n",
      "SLQ320b2000: 0.0093\n",
      "DRD350H: 0.0093\n",
      "SMQ725: 0.0090\n",
      "DR1TCARB: 0.0087\n",
      "PHDSESNZ: 0.0087\n",
      "BPQ150: 0.0077\n",
      "INDFMMPI: 0.0077\n",
      "DPQ100: 0.0076\n",
      "MCQ160B: 0.0076\n",
      "LBXDHE: 0.0075\n",
      "DRD370AQ: 0.0072\n",
      "LUARXNC: 0.0072\n",
      "DR1TVB12: 0.0070\n",
      "LBXTC: 0.0069\n",
      "DRD350JQ: 0.0069\n",
      "DR1TPOTA: 0.0067\n",
      "BAARFC22: 0.0067\n",
      "PAD790Qcombined5397605346934028e79b: 0.0067\n",
      "BAQ491: 0.0066\n",
      "PHACOFMN: 0.0066\n",
      "BAQ321B: 0.0066\n",
      "SMQ681: 0.0064\n",
      "BPXOPLS2: 0.0064\n",
      "PHAGUMMN: 0.0060\n",
      "DRD370DQ: 0.0060\n",
      "MCQ035: 0.0060\n",
      "SMD650: 0.0059\n",
      "LBXHGB: 0.0058\n",
      "OHQ845: 0.0058\n",
      "BMXLEG: 0.0056\n",
      "BPQ101D: 0.0056\n",
      "KIQ022: 0.0055\n",
      "BPQ080: 0.0055\n",
      "WTDRD1: 0.0054\n",
      "DR1TVC: 0.0054\n",
      "PHACOFHR: 0.0052\n",
      "LBXLUH: 0.0052\n",
      "IMQ060: 0.0051\n",
      "BAQ321C: 0.0051\n"
     ]
    }
   ],
   "source": [
    "import joblib \n",
    "\n",
    "loaded_model = joblib.load(\"saved_models/XGBoost_diabetes.pkl\")\n",
    "feature_names = joblib.load(\"saved_models/diabetes_feature_names.pkl\")\n",
    "\n",
    "importances = loaded_model.feature_importances_\n",
    "feature_importance = sorted(zip(feature_names, importances), key=lambda x: x[1], reverse=True)\n",
    "\n",
    "for feature, importance in feature_importance[:50]:\n",
    "    print(f\"{feature}: {importance:.4f}\")\n"
   ]
  },
  {
   "cell_type": "code",
   "execution_count": 3,
   "metadata": {},
   "outputs": [
    {
     "name": "stderr",
     "output_type": "stream",
     "text": [
      "/tmp/ipykernel_1774456/138816136.py:66: DeprecationWarning: In a future version, `df.iloc[:, i] = newvals` will attempt to set the values inplace instead of always setting a new array. To retain the old behavior, use either `df[df.columns[i]] = newvals` or, if columns are non-unique, `df.isetitem(i, newvals)`\n",
      "  df[:] = pd.DataFrame(knn_imputer.fit_transform(df), columns=df.columns, index=df.index)\n"
     ]
    },
    {
     "name": "stdout",
     "output_type": "stream",
     "text": [
      "Top 50 correlation-based features: ['LBXGH', 'LBXGLU', 'LBDGLUSI', 'RXQ050', 'HUQ010', 'BPQ020', 'FNQ440', 'BMXWAIST', 'RXQ033', 'RIDAGEYR', 'RXQ510', 'LBXTC', 'LBDTCSI', 'OHQ845', 'LUXCAPM', 'FNQ490', 'BPQ101D', 'DMDEDUC2', 'FNDADI', 'LBDHDD', 'LBDHDDSI', 'PAD810Qcombined5397605346934028e79b', 'LUAPNMEbM', 'FNDAEDI', 'LBXSF6SI', 'BMXBMI', 'LBXDHE', 'LBDDHESI', 'BPQ080', 'LBXRDW', 'OCD150', 'AUQ054', 'RHQ031', 'PAD790Qcombined5397605346934028e79b', 'LUXSMED', 'KIQ481', 'BPXOPLS1', 'BMXWT', 'DRQSDIET', 'DRD370M', 'BAXTC41', 'LBDINSI', 'LBXIN', 'AUQ101', 'BMXARMC', 'LUAPNMEbXL', 'BAQ321C', 'MCQ160A', 'OHQ630']\n"
     ]
    }
   ],
   "source": [
    "# Ensure target is aligned\n",
    "import pandas as pd\n",
    "import numpy as np\n",
    "from sklearn.model_selection import train_test_split\n",
    "from sklearn.ensemble import RandomForestClassifier\n",
    "from sklearn.linear_model import LogisticRegression\n",
    "from xgboost import XGBClassifier\n",
    "from lightgbm import LGBMClassifier\n",
    "from sklearn.metrics import classification_report, accuracy_score, roc_auc_score\n",
    "import re\n",
    "from sklearn.impute import KNNImputer, SimpleImputer\n",
    "from dataset_processing import get_columns\n",
    "from sklearn.metrics import roc_auc_score\n",
    "from sklearn.metrics import f1_score\n",
    "import joblib\n",
    "\n",
    "# Load dataset\n",
    "df = pd.read_csv('NHANES_SAMPLE.csv')\n",
    "\n",
    "# Define target column\n",
    "target_column, remove_list = get_columns('diab')\n",
    "\n",
    "# Ensure target column exists\n",
    "if target_column not in df.columns:\n",
    "    raise ValueError(f\"Target column '{target_column}' not found in dataset!\")\n",
    "\n",
    "# Handle missing target values\n",
    "df = df.dropna(subset=[target_column])\n",
    "\n",
    "# Convert target column to binary classification (1 = diabetes, else 0)\n",
    "df[target_column] = df[target_column].apply(lambda x: 1 if x == 1 else 0)\n",
    "\n",
    "# Convert all byte-string values to normal strings\n",
    "df = df.applymap(lambda x: x.decode('utf-8') if isinstance(x, bytes) else x)\n",
    "\n",
    "# Select all feature columns (excluding target)\n",
    "feature_columns = [col for col in df.columns if col != target_column]\n",
    "feature_columns = [col for col in df.columns if col not in remove_list]\n",
    "\n",
    "# Define activity columns to combine\n",
    "activity_columns = [(\"PAD790Q\", \"PAD790U\"), (\"PAD810Q\", \"PAD810U\")]\n",
    "# Combine activity columns\n",
    "for freq_col, unit_col in activity_columns:\n",
    "    if freq_col in df.columns and unit_col in df.columns:\n",
    "        combined_col = f\"{freq_col}_combined\"\n",
    "        df[combined_col] = df[freq_col].astype(str) + \"_\" + df[unit_col].astype(str)\n",
    "        df.drop([freq_col, unit_col], axis=1, inplace=True)\n",
    "        feature_columns.remove(freq_col)\n",
    "        feature_columns.remove(unit_col)\n",
    "        feature_columns.append(combined_col)\n",
    "\n",
    "\n",
    "df =df[feature_columns]\n",
    "\n",
    "# Separate categorical and numerical columns\n",
    "categorical_cols = df[feature_columns].select_dtypes(include=['object']).columns.tolist()\n",
    "numerical_cols = [col for col in feature_columns if col not in categorical_cols]\n",
    "\n",
    "# One-hot encode categorical features\n",
    "df = pd.get_dummies(df, columns=categorical_cols, drop_first=True)\n",
    "\n",
    "# Handle missing values using KNN imputer\n",
    "knn_imputer = KNNImputer(n_neighbors=3) \n",
    "# df.fillna(df.median(), inplace=True)\n",
    "df = df.dropna(axis=1, how='all')\n",
    "df[:] = pd.DataFrame(knn_imputer.fit_transform(df), columns=df.columns, index=df.index)\n",
    "\n",
    "df.columns = [col.replace(\"_\", \"\") for col in df.columns]\n",
    "df = df.rename(columns = lambda x:re.sub('[^A-Za-z0-9_]+', '', x))\n",
    "\n",
    "X = df.drop(columns=[target_column])\n",
    "\n",
    "y = df[target_column]\n",
    "\n",
    "X_corr = X.copy()\n",
    "X_corr[target_column] = y\n",
    "\n",
    "# Compute correlation with target\n",
    "correlations = X_corr.corr(numeric_only=True)[target_column].abs()\n",
    "\n",
    "# Select top-k features based on correlation\n",
    "top_k = 50\n",
    "top_corr_features = correlations.sort_values(ascending=False).head(top_k).index.tolist()\n",
    "\n",
    "# Remove the target itself from the list\n",
    "top_corr_features = [f for f in top_corr_features if f != target_column]\n",
    "\n",
    "print(f\"Top {top_k} correlation-based features:\", top_corr_features)\n"
   ]
  },
  {
   "cell_type": "code",
   "execution_count": 4,
   "metadata": {},
   "outputs": [
    {
     "name": "stdout",
     "output_type": "stream",
     "text": [
      "LASSO selected 9 features: ['LBXGH', 'LBXTC', 'LBDTCSI', 'BPQ020', 'BPQ080', 'HUQ010', 'FNQ440', 'RXQ033', 'RXQ050']\n"
     ]
    }
   ],
   "source": [
    "from sklearn.linear_model import LogisticRegression\n",
    "from sklearn.preprocessing import StandardScaler\n",
    "\n",
    "# Scale data\n",
    "scaler = StandardScaler()\n",
    "X_scaled = scaler.fit_transform(X)\n",
    "\n",
    "# Lasso (L1) Logistic Regression\n",
    "lasso = LogisticRegression(penalty='l1', solver='saga', max_iter=10000, C=0.01, random_state=42)\n",
    "lasso.fit(X_scaled, y)\n",
    "\n",
    "# Extract non-zero coefficients\n",
    "lasso_selected_features = X.columns[(lasso.coef_ != 0).ravel()].tolist()\n",
    "\n",
    "print(f\"LASSO selected {len(lasso_selected_features)} features:\", lasso_selected_features)\n"
   ]
  }
 ],
 "metadata": {
  "kernelspec": {
   "display_name": "ml808",
   "language": "python",
   "name": "python3"
  },
  "language_info": {
   "codemirror_mode": {
    "name": "ipython",
    "version": 3
   },
   "file_extension": ".py",
   "mimetype": "text/x-python",
   "name": "python",
   "nbconvert_exporter": "python",
   "pygments_lexer": "ipython3",
   "version": "3.9.21"
  },
  "orig_nbformat": 4
 },
 "nbformat": 4,
 "nbformat_minor": 2
}
